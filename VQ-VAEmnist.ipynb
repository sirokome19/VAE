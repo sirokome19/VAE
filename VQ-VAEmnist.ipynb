{
 "cells": [
  {
   "cell_type": "markdown",
   "metadata": {},
   "source": [
    "## VQ-VAE概要"
   ]
  },
  {
   "cell_type": "markdown",
   "metadata": {},
   "source": [
    "### VAEとの違い"
   ]
  },
  {
   "cell_type": "markdown",
   "metadata": {},
   "source": [
    "VAEは以下の変分下限を最大化することを考えていた。"
   ]
  },
  {
   "cell_type": "markdown",
   "metadata": {},
   "source": [
    "$$\n",
    "\\begin{align}\n",
    "L(x,z)=\\mathbb{E}_{q(z|x)}\\log{p(x|z)}-D_{KL}[q(z|x)\\|p(z)]\n",
    "\\end{align}\n",
    "$$"
   ]
  },
  {
   "cell_type": "markdown",
   "metadata": {},
   "source": [
    "VQ-VAEでは事後分布をそのまま扱うのではなく、最も距離の近い観測点を1とするone-hotベクトルで考える。"
   ]
  },
  {
   "cell_type": "markdown",
   "metadata": {},
   "source": [
    "$$\n",
    "q(z=k|x)=\\begin{cases}\n",
    "1 & ({\\rm if}\\ k={\\rm argmin}_j\\|z_e(x)-e_j\\|_2)\\\\\n",
    "0 & (\\rm{otherwise})\n",
    "\\end{cases}\n",
    "$$"
   ]
  },
  {
   "cell_type": "markdown",
   "metadata": {},
   "source": [
    "qは確定論的な分布になるので$H(q)=0$。  \n",
    "また、$p(z)$を一様分布と仮定することでKL項を以下のように変形できる。"
   ]
  },
  {
   "cell_type": "markdown",
   "metadata": {},
   "source": [
    "$$\n",
    "\\begin{align}\n",
    "D_{KL}[q(z|x)\\|p(z)]&=\\sum_{k=1}^K q(z=k|x)\\left[\\log \\frac{q(z=k|x)}{p(z=k)}\\right]\\\\\n",
    "&=\\sum_{k=1}^K q(z=k|x)\\log{q(z=k|x)}-\\sum_{k=1}^K q(z=k|x)\\log{p(z=k)}\\\\\n",
    "&=-H(q)-\\log{\\frac{1}{K}}\\sum_{k=1}^K q(z=k|x)\\\\\n",
    "&=\\log{K}\\\\\n",
    "\\end{align}\n",
    "$$"
   ]
  },
  {
   "cell_type": "markdown",
   "metadata": {},
   "source": [
    "したがって定数項になるため、ロスとして考えなくて良い。"
   ]
  }
 ],
 "metadata": {
  "kernelspec": {
   "display_name": "py36-yasuda",
   "language": "python",
   "name": "py36-yasuda"
  },
  "language_info": {
   "codemirror_mode": {
    "name": "ipython",
    "version": 3
   },
   "file_extension": ".py",
   "mimetype": "text/x-python",
   "name": "python",
   "nbconvert_exporter": "python",
   "pygments_lexer": "ipython3",
   "version": "3.6.9"
  }
 },
 "nbformat": 4,
 "nbformat_minor": 4
}
