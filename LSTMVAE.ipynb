{
 "cells": [
  {
   "cell_type": "code",
   "execution_count": 1,
   "metadata": {},
   "outputs": [],
   "source": [
    "import torch\n",
    "import torch.nn as nn\n",
    "import torch.nn.functional as F\n",
    "import torch.optim as optim\n",
    "from torch.distributions.normal import Normal as Gaussian\n",
    "\n",
    "import torchtext\n",
    "from torchtext import data, datasets\n",
    "from torchtext.vocab import Vectors\n",
    "\n",
    "cuda = True if torch.cuda.is_available() else False #CUDA使用可能でTrue\n",
    "device=\"cuda:0\" if cuda else \"cpu\"\n",
    "# randomを固定\n",
    "SEED = 1\n",
    "# random.seed(SEED)\n",
    "torch.manual_seed(SEED)\n",
    "torch.cuda.manual_seed(SEED)\n",
    "torch.backends.cudnn.deterministic = True\n",
    "\n",
    "import matplotlib.pyplot as plt\n",
    "%matplotlib inline\n",
    "UNK_token=0\n",
    "PAD_token=1\n",
    "SOS_token=2\n",
    "EOS_token=3"
   ]
  },
  {
   "cell_type": "code",
   "execution_count": 2,
   "metadata": {},
   "outputs": [],
   "source": [
    "def tokenizer(text):\n",
    "    malist = text.split()\n",
    "    return malist"
   ]
  },
  {
   "cell_type": "code",
   "execution_count": 3,
   "metadata": {},
   "outputs": [],
   "source": [
    "# 定数\n",
    "MAXLEN=20 #paddingをバッチにかかわらず固定長にする\n",
    "NUM_EPOCHS = 100\n",
    "KL_LOSS_ZERO_EPOCH=15\n",
    "EMBED_SIZE=300\n",
    "BATCH_SIZE=512\n",
    "LSTM_HIDDEN_DIM=100\n",
    "Z_DIM=100\n",
    "WORD_DROP_RATE=0.5\n",
    "# data_type=\"wiki_mecab\"+\"_fortest\"\n",
    "# data_type=\"wiki_mecab\"+\"_small\"\n",
    "data_source=\"wiki\"\n",
    "splited_type=\"mecab\"\n",
    "feature=\"hiragana_kanji_only\"\n",
    "data_type=data_source+\"_\"+splited_type+\"_\"+feature\n",
    "vector=\"fasttext\"\n",
    "out_dir=\"./result/lstmvae\""
   ]
  },
  {
   "cell_type": "code",
   "execution_count": 4,
   "metadata": {},
   "outputs": [],
   "source": [
    "TEXT = data.Field(sequential=True, tokenize=tokenizer,lower=True, include_lengths=True, init_token=\"<SOS>\",eos_token=\"<EOS>\", fix_length=MAXLEN, batch_first=True)\n",
    "train, val, test = data.TabularDataset.splits(\n",
    "        path='./data/{}/'.format(data_source), train=data_type+'_train.tsv',\n",
    "        validation=data_type+'_valid.tsv', test=data_type+'_test.tsv', format='tsv',\n",
    "        fields=[('Text', TEXT),])\n",
    "\n",
    "\n",
    "TEXT = data.Field(sequential=True, tokenize=tokenizer,lower=True, include_lengths=True, init_token=\"<SOS>\",eos_token=\"<EOS>\", fix_length=MAXLEN, batch_first=True)\n",
    "train, val, test = data.TabularDataset.splits(\n",
    "        path='./data/{}/'.format(data_source), train=data_type+'_train.tsv',\n",
    "        validation=data_type+'_valid.tsv', test=data_type+'_test.tsv', format='tsv',\n",
    "        fields=[('Text', TEXT),])\n",
    "train_iter, val_iter, test_iter = data.Iterator.splits((train, val, test), batch_sizes=(BATCH_SIZE, BATCH_SIZE, BATCH_SIZE),sort = False, device=torch.device(device))\n",
    "\n",
    "if vector==\"fasttext\":\n",
    "    TEXT.build_vocab(train,val,test, vectors=Vectors(name=\"fasttext.vec\"))\n",
    "    vocab_size=TEXT.vocab.vectors.size()[0]\n",
    "else:\n",
    "    TEXT.build_vocab(train,val,test)\n",
    "    vocab_size=len(TEXT.vocab.itos)"
   ]
  },
  {
   "cell_type": "code",
   "execution_count": 5,
   "metadata": {},
   "outputs": [
    {
     "data": {
      "text/plain": [
       "tensor([[ 0.0000,  0.0000,  0.0000,  ...,  0.0000,  0.0000,  0.0000],\n",
       "        [ 0.0000,  0.0000,  0.0000,  ...,  0.0000,  0.0000,  0.0000],\n",
       "        [ 0.0000,  0.0000,  0.0000,  ...,  0.0000,  0.0000,  0.0000],\n",
       "        ...,\n",
       "        [ 0.1041,  0.0847, -0.2219,  ...,  0.5101, -0.0855, -0.1055],\n",
       "        [ 0.1450, -0.3459, -0.1778,  ...,  0.3307,  0.3743,  0.0613],\n",
       "        [ 0.1914, -0.1240, -0.1963,  ..., -0.2575, -0.1688, -0.1909]])"
      ]
     },
     "execution_count": 5,
     "metadata": {},
     "output_type": "execute_result"
    }
   ],
   "source": [
    "share_emb=nn.Embedding(vocab_size, EMBED_SIZE).to(device)\n",
    "share_emb.weight.data.copy_(TEXT.vocab.vectors) # set learned vector\n",
    "# share_emb.weight.requires_grad = False # embedding固定"
   ]
  },
  {
   "cell_type": "code",
   "execution_count": 6,
   "metadata": {},
   "outputs": [],
   "source": [
    "class RNNEncoder(nn.Module):\n",
    "    def __init__(self, hidden_dim, z_dim):\n",
    "        super(RNNEncoder, self).__init__()\n",
    "        self.lstm = nn.LSTM(EMBED_SIZE, hidden_dim, batch_first=True,bidirectional=True)\n",
    "        self.fc1=nn.Linear(hidden_dim*4, hidden_dim*2)\n",
    "        self.fc2=nn.Linear(hidden_dim*2, z_dim)\n",
    "        self.ReLU=nn.ReLU()\n",
    "\n",
    "    def forward(self, x_emb):\n",
    "        _, (h,c) = self.lstm(x_emb) # out, (h=(1,batch,hidden_dim), c)\n",
    "        hf,hb,cf,cb=h[0],h[1],c[0],c[1] # bidirectionalのそれぞれの最後の隠れ状態をとってくる\n",
    "        state=torch.cat([hf,hb,cf,cb],dim=-1)\n",
    "        output=self.fc1(state) #  #(batch, hidden*4) -> (batch, z_dim)\n",
    "        output=self.fc2(self.ReLU(output))\n",
    "        return output"
   ]
  },
  {
   "cell_type": "code",
   "execution_count": 7,
   "metadata": {},
   "outputs": [],
   "source": [
    "class vae_classifier_2layer(nn.Module):\n",
    "    def __init__(self,z_dim):\n",
    "        super().__init__()\n",
    "        self.fc11 = nn.Linear(z_dim, z_dim)\n",
    "        self.fc12 = nn.Linear(z_dim, z_dim)\n",
    "        self.ReLU=nn.ReLU()\n",
    "\n",
    "    def forward(self, h):\n",
    "        mean = self.fc11(self.ReLU(h))\n",
    "        log_sigma_sq = self.fc12(self.ReLU(h))\n",
    "        return mean, log_sigma_sq"
   ]
  },
  {
   "cell_type": "code",
   "execution_count": 8,
   "metadata": {},
   "outputs": [],
   "source": [
    "class RNNDecoder(nn.Module):\n",
    "    def __init__(self, hidden_dim, z_dim):\n",
    "        super(RNNDecoder, self).__init__()\n",
    "        self.maxlen=MAXLEN\n",
    "        self.embedding=share_emb\n",
    "        self.fc11=nn.Linear(z_dim, hidden_dim*2)\n",
    "        self.fc12=nn.Linear(z_dim, hidden_dim*2)\n",
    "        self.lstm = nn.LSTM(EMBED_SIZE, hidden_dim*2, batch_first=True)\n",
    "        self.fc2=nn.Linear(hidden_dim*2, vocab_size)\n",
    "        self.tanh=nn.Tanh()\n",
    "        \n",
    "    def forward(self, x_emb, h,is_prob=False): #h=(1,batch,hidden_dim)\n",
    "        bsize=len(x_emb)\n",
    "        logits = torch.tensor([]).to(device)\n",
    "        sentence = torch.tensor([],dtype=torch.long).to(device)\n",
    "        h0=self.fc11(h)\n",
    "        c0=self.fc12(h)\n",
    "        hidden=(h0,c0)\n",
    "        for i in range(self.maxlen):\n",
    "            _teacher=False if is_prob or torch.rand(1)<WORD_DROP_RATE else True\n",
    "            if _teacher or i==0: # 教師入力するならここに\n",
    "                lstm_input = torch.unsqueeze(x_emb[:,i,:],1)\n",
    "            else:\n",
    "                lstm_input=self.embedding(word)\n",
    "#                 lstm_input=torch.zeros(bsize,1,EMBED_SIZE).to(device) # word drop\n",
    "            lstm_input=F.normalize(lstm_input,dim=-1)\n",
    "            out,hidden=self.lstm(lstm_input, hidden)\n",
    "                # out = (batch, 1, n_hid)\n",
    "                # hidden = ((batch, 1, n_hid),(batch, 1, n_hid))\n",
    "            logit = self.fc2(out) # logit = (batch, 1, vocab_size)\n",
    "            word = torch.argmax(logit, dim=2)# word = (batch, 1)\n",
    "        \n",
    "            sentence = torch.cat([sentence, word],1)\n",
    "            logits = torch.cat([logits,logit],1)   \n",
    "        return logits, sentence"
   ]
  },
  {
   "cell_type": "code",
   "execution_count": 19,
   "metadata": {},
   "outputs": [],
   "source": [
    "class VAE(nn.Module):\n",
    "    def __init__(self, hidden_dim, z_dim):\n",
    "        super(VAE,self).__init__()\n",
    "        self.z_dim=z_dim\n",
    "        self.embedding=share_emb\n",
    "        self.maxlen=MAXLEN\n",
    "        self.vae_classifier=vae_classifier_2layer(z_dim)\n",
    "        self.RNNEncoder = RNNEncoder(hidden_dim, z_dim)\n",
    "        self.RNNDecoder = RNNDecoder(hidden_dim, z_dim)\n",
    "\n",
    "    def forward(self, x,is_prob=False): # x = (batch, max_len)\n",
    "        bsize=len(x)\n",
    "        x_emb = self.embedding(x)\n",
    "        x_emb=F.normalize(x_emb,dim=-1)\n",
    "        H=self.RNNEncoder(x_emb)\n",
    "        \n",
    "        H_mean, H_log_sigma_sq = self.vae_classifier(H) # H_mean, H_log_sigma_sq= (batch, z_dim)\n",
    "        eps = torch.empty(bsize, self.z_dim).normal_(mean=0,std=1).to(device) # N(0, 1)\n",
    "        H_dec = H_mean + eps * torch.sqrt(torch.exp(H_log_sigma_sq)) # H_dec = (batch, z_dim)\n",
    "        H_dec=torch.unsqueeze(H_dec,0)\n",
    "        logits, sentence=self.RNNDecoder(x_emb,H_dec,is_prob=is_prob)\n",
    "            # logits = (batch, max_len, vocab_size)\n",
    "            # sentence = (batch, max_len)\n",
    "            # 中身はindex\n",
    "\n",
    "        # loss\n",
    "        seq_logits = logits[:,:-1,:] # 一番最後の出力は無意味\n",
    "        target = x[:,1:] # 一番最初の<SOS>を取り除く\n",
    "        criterion = nn.CrossEntropyLoss(ignore_index=1)\n",
    "        loss = 0\n",
    "        for i in range(self.maxlen-1):\n",
    "            loss += criterion(torch.squeeze(seq_logits[:,i,:]), torch.squeeze(target[:,i]))\n",
    "        loss/=(self.maxlen-1)\n",
    "        # KL loss\n",
    "        # 標準正規分布と(μ,σ^2)正規分布を仮定しているので以下の計算式になる\n",
    "        # nn.klDivLossを使うと仮定が甘い\n",
    "        # kl_loss = Σ0.5Σ(μ^2+exp(ln(σ^2))-ln(σ^2)-1)を使う\n",
    "        kl_loss = torch.sum(0.5 * torch.sum((H_mean**2 + torch.exp(H_log_sigma_sq) - H_log_sigma_sq - 1),dim=1))\n",
    "        \n",
    "        return loss, kl_loss, sentence\n"
   ]
  },
  {
   "cell_type": "code",
   "execution_count": 20,
   "metadata": {},
   "outputs": [],
   "source": [
    "def train(epoch):\n",
    "    model.train()\n",
    "    epoch_loss = 0\n",
    "    count=0\n",
    "    for idx, batch in enumerate(train_iter):\n",
    "        (x, x_l) = batch.Text\n",
    "            # xには文章のID表現が、x_lにはxの単語数が入る\n",
    "            # x=(batch, max_len)\n",
    "        optimizer.zero_grad()\n",
    "        loss, kl_loss, syn_sents=model(x)\n",
    "        all_loss=loss\n",
    "        if epoch>=KL_LOSS_ZERO_EPOCH:\n",
    "            all_loss+=kl_loss*(epoch-KL_LOSS_ZERO_EPOCH)/(NUM_EPOCHS-KL_LOSS_ZERO_EPOCH)\n",
    "        with torch.autograd.detect_anomaly(): #NaN検出\n",
    "            all_loss.backward()\n",
    "            optimizer.step()\n",
    "        epoch_loss+=loss.item()\n",
    "        count+=len(x)\n",
    "        with open(out_dir+\"/train_sentences/{:0>3}.txt\".format(epoch),\"w\") as f:\n",
    "            for j in range(len(syn_sents)):\n",
    "                word_list=[]\n",
    "                for i in syn_sents[j]:\n",
    "                    if i==EOS_token:\n",
    "                        break\n",
    "                    if i!=PAD_token:\n",
    "                        word_list.append(TEXT.vocab.itos[int(i)])\n",
    "                sent=' '.join(word_list)\n",
    "                sent+=\"\\n\"\n",
    "                f.write(sent)\n",
    "    return epoch_loss/count\n",
    "\n",
    "def val(epoch):\n",
    "    model.eval()\n",
    "    epoch_loss = 0\n",
    "    count=0\n",
    "    for idx, batch in enumerate(val_iter):\n",
    "        (x, x_l) = batch.Text\n",
    "            # xには文章のID表現が、x_lにはxの単語数が入る\n",
    "            # x=(batch, max_len)\n",
    "        loss,kl_loss, syn_sents=model(x)\n",
    "        all_loss=loss\n",
    "\n",
    "        epoch_loss+=loss.item()\n",
    "        count+=len(x)\n",
    "        with open(out_dir+\"/validation_sentences/{:0>3}.txt\".format(epoch),\"w\") as f:\n",
    "            for j in range(len(syn_sents)):\n",
    "                word_list=[]\n",
    "                for i in syn_sents[j]:\n",
    "                    if i==EOS_token:\n",
    "                        break\n",
    "                    if i!=PAD_token:\n",
    "                        word_list.append(TEXT.vocab.itos[int(i)])\n",
    "                sent=' '.join(word_list)\n",
    "                sent+=\"\\n\"\n",
    "                f.write(sent)\n",
    "    return epoch_loss/count"
   ]
  },
  {
   "cell_type": "code",
   "execution_count": 21,
   "metadata": {},
   "outputs": [
    {
     "name": "stdout",
     "output_type": "stream",
     "text": [
      "epoch [1/100], loss: 0.0002 test_loss: 0.0002\n",
      "epoch [2/100], loss: -0.0000 test_loss: -0.0006\n",
      "epoch [3/100], loss: -0.0020 test_loss: -0.0124\n",
      "epoch [4/100], loss: -0.0111 test_loss: -0.0292\n",
      "epoch [5/100], loss: -0.0223 test_loss: -0.0488\n",
      "epoch [6/100], loss: -0.0342 test_loss: -0.0805\n",
      "epoch [7/100], loss: -0.0538 test_loss: -0.1014\n"
     ]
    },
    {
     "name": "stderr",
     "output_type": "stream",
     "text": [
      "/pytorch/torch/csrc/autograd/python_anomaly_mode.cpp:40: UserWarning: No forward pass information available. Enable detect anomaly during forward pass for more information.\n"
     ]
    },
    {
     "ename": "RuntimeError",
     "evalue": "Function 'ExpBackward' returned nan values in its 0th output.",
     "output_type": "error",
     "traceback": [
      "\u001b[0;31m---------------------------------------------------------------------------\u001b[0m",
      "\u001b[0;31mRuntimeError\u001b[0m                              Traceback (most recent call last)",
      "\u001b[0;32m<ipython-input-21-84f4c68e15c9>\u001b[0m in \u001b[0;36m<module>\u001b[0;34m\u001b[0m\n\u001b[1;32m      4\u001b[0m \u001b[0mvalid_loss_history\u001b[0m \u001b[0;34m=\u001b[0m \u001b[0;34m[\u001b[0m\u001b[0;34m]\u001b[0m\u001b[0;34m\u001b[0m\u001b[0;34m\u001b[0m\u001b[0m\n\u001b[1;32m      5\u001b[0m \u001b[0;32mfor\u001b[0m \u001b[0mepoch\u001b[0m \u001b[0;32min\u001b[0m \u001b[0mrange\u001b[0m\u001b[0;34m(\u001b[0m\u001b[0;36m1\u001b[0m\u001b[0;34m,\u001b[0m \u001b[0mNUM_EPOCHS\u001b[0m \u001b[0;34m+\u001b[0m \u001b[0;36m1\u001b[0m\u001b[0;34m)\u001b[0m\u001b[0;34m:\u001b[0m\u001b[0;34m\u001b[0m\u001b[0;34m\u001b[0m\u001b[0m\n\u001b[0;32m----> 6\u001b[0;31m     \u001b[0mtrain_loss\u001b[0m \u001b[0;34m=\u001b[0m \u001b[0mtrain\u001b[0m\u001b[0;34m(\u001b[0m\u001b[0mepoch\u001b[0m\u001b[0;34m)\u001b[0m\u001b[0;34m\u001b[0m\u001b[0;34m\u001b[0m\u001b[0m\n\u001b[0m\u001b[1;32m      7\u001b[0m     \u001b[0mvalid_loss\u001b[0m \u001b[0;34m=\u001b[0m \u001b[0mval\u001b[0m\u001b[0;34m(\u001b[0m\u001b[0mepoch\u001b[0m\u001b[0;34m)\u001b[0m\u001b[0;34m\u001b[0m\u001b[0;34m\u001b[0m\u001b[0m\n\u001b[1;32m      8\u001b[0m     \u001b[0;32mif\u001b[0m \u001b[0mepoch\u001b[0m\u001b[0;34m%\u001b[0m\u001b[0;36m1\u001b[0m\u001b[0;34m==\u001b[0m\u001b[0;36m0\u001b[0m\u001b[0;34m:\u001b[0m\u001b[0;34m\u001b[0m\u001b[0;34m\u001b[0m\u001b[0m\n",
      "\u001b[0;32m<ipython-input-20-a0a6333c3d30>\u001b[0m in \u001b[0;36mtrain\u001b[0;34m(epoch)\u001b[0m\n\u001b[1;32m     15\u001b[0m \u001b[0;31m#             all_loss+=kl_loss*epoch/NUM_EPOCHS\u001b[0m\u001b[0;34m\u001b[0m\u001b[0;34m\u001b[0m\u001b[0;34m\u001b[0m\u001b[0m\n\u001b[1;32m     16\u001b[0m         \u001b[0;32mwith\u001b[0m \u001b[0mtorch\u001b[0m\u001b[0;34m.\u001b[0m\u001b[0mautograd\u001b[0m\u001b[0;34m.\u001b[0m\u001b[0mdetect_anomaly\u001b[0m\u001b[0;34m(\u001b[0m\u001b[0;34m)\u001b[0m\u001b[0;34m:\u001b[0m \u001b[0;31m#NaN検出\u001b[0m\u001b[0;34m\u001b[0m\u001b[0;34m\u001b[0m\u001b[0m\n\u001b[0;32m---> 17\u001b[0;31m             \u001b[0mall_loss\u001b[0m\u001b[0;34m.\u001b[0m\u001b[0mbackward\u001b[0m\u001b[0;34m(\u001b[0m\u001b[0;34m)\u001b[0m\u001b[0;34m\u001b[0m\u001b[0;34m\u001b[0m\u001b[0m\n\u001b[0m\u001b[1;32m     18\u001b[0m             \u001b[0moptimizer\u001b[0m\u001b[0;34m.\u001b[0m\u001b[0mstep\u001b[0m\u001b[0;34m(\u001b[0m\u001b[0;34m)\u001b[0m\u001b[0;34m\u001b[0m\u001b[0;34m\u001b[0m\u001b[0m\n\u001b[1;32m     19\u001b[0m         \u001b[0mepoch_loss\u001b[0m\u001b[0;34m+=\u001b[0m\u001b[0mloss\u001b[0m\u001b[0;34m.\u001b[0m\u001b[0mitem\u001b[0m\u001b[0;34m(\u001b[0m\u001b[0;34m)\u001b[0m\u001b[0;34m\u001b[0m\u001b[0;34m\u001b[0m\u001b[0m\n",
      "\u001b[0;32m~/.conda/envs/py36-yasuda/lib/python3.6/site-packages/torch/tensor.py\u001b[0m in \u001b[0;36mbackward\u001b[0;34m(self, gradient, retain_graph, create_graph)\u001b[0m\n\u001b[1;32m    164\u001b[0m                 \u001b[0mproducts\u001b[0m\u001b[0;34m.\u001b[0m \u001b[0mDefaults\u001b[0m \u001b[0mto\u001b[0m\u001b[0;31m \u001b[0m\u001b[0;31m`\u001b[0m\u001b[0;31m`\u001b[0m\u001b[0;32mFalse\u001b[0m\u001b[0;31m`\u001b[0m\u001b[0;31m`\u001b[0m\u001b[0;34m.\u001b[0m\u001b[0;34m\u001b[0m\u001b[0;34m\u001b[0m\u001b[0m\n\u001b[1;32m    165\u001b[0m         \"\"\"\n\u001b[0;32m--> 166\u001b[0;31m         \u001b[0mtorch\u001b[0m\u001b[0;34m.\u001b[0m\u001b[0mautograd\u001b[0m\u001b[0;34m.\u001b[0m\u001b[0mbackward\u001b[0m\u001b[0;34m(\u001b[0m\u001b[0mself\u001b[0m\u001b[0;34m,\u001b[0m \u001b[0mgradient\u001b[0m\u001b[0;34m,\u001b[0m \u001b[0mretain_graph\u001b[0m\u001b[0;34m,\u001b[0m \u001b[0mcreate_graph\u001b[0m\u001b[0;34m)\u001b[0m\u001b[0;34m\u001b[0m\u001b[0;34m\u001b[0m\u001b[0m\n\u001b[0m\u001b[1;32m    167\u001b[0m \u001b[0;34m\u001b[0m\u001b[0m\n\u001b[1;32m    168\u001b[0m     \u001b[0;32mdef\u001b[0m \u001b[0mregister_hook\u001b[0m\u001b[0;34m(\u001b[0m\u001b[0mself\u001b[0m\u001b[0;34m,\u001b[0m \u001b[0mhook\u001b[0m\u001b[0;34m)\u001b[0m\u001b[0;34m:\u001b[0m\u001b[0;34m\u001b[0m\u001b[0;34m\u001b[0m\u001b[0m\n",
      "\u001b[0;32m~/.conda/envs/py36-yasuda/lib/python3.6/site-packages/torch/autograd/__init__.py\u001b[0m in \u001b[0;36mbackward\u001b[0;34m(tensors, grad_tensors, retain_graph, create_graph, grad_variables)\u001b[0m\n\u001b[1;32m     97\u001b[0m     Variable._execution_engine.run_backward(\n\u001b[1;32m     98\u001b[0m         \u001b[0mtensors\u001b[0m\u001b[0;34m,\u001b[0m \u001b[0mgrad_tensors\u001b[0m\u001b[0;34m,\u001b[0m \u001b[0mretain_graph\u001b[0m\u001b[0;34m,\u001b[0m \u001b[0mcreate_graph\u001b[0m\u001b[0;34m,\u001b[0m\u001b[0;34m\u001b[0m\u001b[0;34m\u001b[0m\u001b[0m\n\u001b[0;32m---> 99\u001b[0;31m         allow_unreachable=True)  # allow_unreachable flag\n\u001b[0m\u001b[1;32m    100\u001b[0m \u001b[0;34m\u001b[0m\u001b[0m\n\u001b[1;32m    101\u001b[0m \u001b[0;34m\u001b[0m\u001b[0m\n",
      "\u001b[0;31mRuntimeError\u001b[0m: Function 'ExpBackward' returned nan values in its 0th output."
     ]
    }
   ],
   "source": [
    "model=VAE(hidden_dim=LSTM_HIDDEN_DIM,z_dim=Z_DIM).to(device)\n",
    "optimizer = optim.Adam(model.parameters(), lr=1e-2)\n",
    "train_loss_history = []\n",
    "valid_loss_history = []\n",
    "for epoch in range(1, NUM_EPOCHS + 1):\n",
    "    train_loss = train(epoch)\n",
    "    valid_loss = val(epoch)\n",
    "    if epoch%1==0:\n",
    "        print('epoch [{}/{}], loss: {:.4f} test_loss: {:.4f}'.format(\n",
    "            epoch,\n",
    "            NUM_EPOCHS,\n",
    "            train_loss,\n",
    "            valid_loss))\n",
    "\n",
    "    # logging\n",
    "    train_loss_history.append(train_loss)\n",
    "    valid_loss_history.append(valid_loss)\n",
    "\n",
    "# save the training model\n",
    "torch.save(model.state_dict(), out_dir+'/lstmvae.model')"
   ]
  },
  {
   "cell_type": "code",
   "execution_count": null,
   "metadata": {},
   "outputs": [],
   "source": [
    "x = [i for i in range(len(train_loss_history))]\n",
    "plt.plot(x, train_loss_history, label=\"train_loss\")\n",
    "plt.plot(x, valid_loss_history, label=\"valid_loss\")\n",
    "plt.ylim(0,0.02)\n",
    "plt.legend()\n",
    "plt.show()"
   ]
  },
  {
   "cell_type": "code",
   "execution_count": null,
   "metadata": {},
   "outputs": [],
   "source": [
    "def test():\n",
    "    model.eval()\n",
    "    batch =next(iter(val_iter))\n",
    "    (x, x_l) = batch.Text\n",
    "    bsize=len(x)\n",
    "    x_emb = model.embedding(x)\n",
    "    x_emb=F.normalize(x_emb,dim=-1)\n",
    "\n",
    "    H_dec = torch.empty(bsize, model.z_dim).normal_(mean=0,std=3).to(device) # N(0, 1)\n",
    "    H_dec=torch.unsqueeze(H_dec,0)\n",
    "    logits, sentence=model.RNNDecoder(x_emb,H_dec,is_prob=True)\n",
    "        # logits = (batch, max_len, vocab_size)\n",
    "        # sentence = (batch, max_len)\n",
    "        # 中身はindex\n",
    "    for j in range(len(sentence)):\n",
    "        word_list=[]\n",
    "        for i in sentence[j]:\n",
    "            if i==EOS_token:\n",
    "                break\n",
    "            if i!=PAD_token:\n",
    "                word_list.append(TEXT.vocab.itos[int(i)])\n",
    "        sent=' '.join(word_list)\n",
    "        if j<100:\n",
    "            print(sent)\n",
    "test()"
   ]
  },
  {
   "cell_type": "markdown",
   "metadata": {},
   "source": [
    "## TODO\n",
    "lr_schedulerでkl_loss追加前後だけlrを下げる"
   ]
  },
  {
   "cell_type": "code",
   "execution_count": 81,
   "metadata": {},
   "outputs": [
    {
     "name": "stdout",
     "output_type": "stream",
     "text": [
      "10000\n"
     ]
    }
   ],
   "source": [
    "ans=0\n",
    "for idx, batch in enumerate(train_iter):\n",
    "    (x, x_l) = batch.Text\n",
    "    ans+=len(x)\n",
    "print(ans)"
   ]
  }
 ],
 "metadata": {
  "kernelspec": {
   "display_name": "py36-yasuda",
   "language": "python",
   "name": "py36-yasuda"
  },
  "language_info": {
   "codemirror_mode": {
    "name": "ipython",
    "version": 3
   },
   "file_extension": ".py",
   "mimetype": "text/x-python",
   "name": "python",
   "nbconvert_exporter": "python",
   "pygments_lexer": "ipython3",
   "version": "3.6.9"
  }
 },
 "nbformat": 4,
 "nbformat_minor": 4
}
