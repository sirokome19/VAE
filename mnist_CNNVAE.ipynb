{
 "cells": [
  {
   "cell_type": "code",
   "execution_count": 1,
   "metadata": {},
   "outputs": [],
   "source": [
    "import os\n",
    "import numpy as np\n",
    "import torch\n",
    "import torch.nn as nn\n",
    "import torch.utils.data\n",
    "import torch.optim as optim\n",
    "from torch.autograd import Variable\n",
    "from torch.nn import functional as F\n",
    "from torchvision import datasets, transforms\n",
    "from torchvision.utils import save_image\n",
    "\n",
    "batch_size = 128\n",
    "num_epochs = 100\n",
    "seed = 1\n",
    "out_dir = './mnist_cnnvae'"
   ]
  },
  {
   "cell_type": "code",
   "execution_count": 2,
   "metadata": {},
   "outputs": [
    {
     "name": "stdout",
     "output_type": "stream",
     "text": [
      "cuda is available!\n"
     ]
    }
   ],
   "source": [
    "cuda = torch.cuda.is_available()\n",
    "if cuda:\n",
    "    print('cuda is available!')\n",
    "    \n",
    "device=\"cuda:0\" if cuda else \"cpu\"\n",
    "if not os.path.exists(out_dir):\n",
    "    os.mkdir(out_dir)\n",
    "\n",
    "torch.manual_seed(seed)\n",
    "if cuda:\n",
    "    torch.cuda.manual_seed(seed)"
   ]
  },
  {
   "cell_type": "code",
   "execution_count": 3,
   "metadata": {},
   "outputs": [],
   "source": [
    "# (image, label) = [(batch,channel,h,w), (batch)] channel=1\n",
    "train_loader = torch.utils.data.DataLoader(\n",
    "    datasets.MNIST('data',\n",
    "                   train=True,\n",
    "                   download=True,\n",
    "                   transform=transforms.ToTensor()),\n",
    "    batch_size=batch_size,\n",
    "    shuffle=True\n",
    ")\n",
    "\n",
    "test_loader = torch.utils.data.DataLoader(\n",
    "    datasets.MNIST('data',\n",
    "                   train=False,\n",
    "                   transform=transforms.ToTensor()),\n",
    "    batch_size=batch_size,\n",
    "    shuffle=True\n",
    ")"
   ]
  },
  {
   "cell_type": "markdown",
   "metadata": {},
   "source": [
    "$$\n",
    "H_{out}=\\text{int}\\left(\\frac{H_{in}+2\\times\\text{padding}-(\\text{kernel_size}-1)-1}{\\text{stride}}+1\\right)\n",
    "$$"
   ]
  },
  {
   "cell_type": "code",
   "execution_count": 19,
   "metadata": {},
   "outputs": [],
   "source": [
    "class VAE(nn.Module):\n",
    "\n",
    "    def __init__(self):\n",
    "        super(VAE, self).__init__()\n",
    "        self.conv1=nn.Conv2d(in_channels=1, out_channels=8,kernel_size=5,stride=2,padding=5//2) # (batch, 1, 28, 28)->(batch, 8, 14, 14)\n",
    "        self.conv2=nn.Conv2d(in_channels=8, out_channels=16,kernel_size=5,stride=2,padding=5//2) # (batch, 8, 14, 14)->(batch, 16, 7, 7)\n",
    "        self.fc1 = nn.Linear(16*7*7, 512)\n",
    "        self.fc21 = nn.Linear(512, 100)  # mu\n",
    "        self.fc22 = nn.Linear(512, 100)  # logvar\n",
    "\n",
    "        self.deconv1=nn.ConvTranspose2d()\n",
    "        self.fc3 = nn.Linear(100, 512)\n",
    "        self.fc4 = nn.Linear(512, 784)\n",
    "        \n",
    "        self.relu = nn.ReLU()\n",
    "        self.sigmoid = nn.Sigmoid()\n",
    "        \n",
    "    def encode(self, x):\n",
    "        h = self.relu(self.fc1(x))\n",
    "        return self.fc21(h), self.fc22(h)\n",
    "\n",
    "    def reparameterize(self, mu, logvar):\n",
    "        if self.training:\n",
    "            std = logvar.mul(0.5).exp_()\n",
    "            eps = Variable(std.data.new(std.size()).normal_())\n",
    "            return eps.mul(std).add_(mu)\n",
    "        else:\n",
    "            return mu\n",
    "\n",
    "    def decode(self, z):\n",
    "        h = self.relu(self.fc3(z))\n",
    "        return self.sigmoid(self.fc4(h))\n",
    "    \n",
    "    def forward(self, x):\n",
    "        x = self.conv1(x)\n",
    "        x=self.relu(x)\n",
    "        x=self.conv2(x)\n",
    "        x=self.relu(x)\n",
    "        x = x.view(-1, 16*7*7)\n",
    "        mu, logvar = self.encode(x)\n",
    "        z = self.reparameterize(mu, logvar)\n",
    "        return self.decode(z), mu, logvar\n",
    "\n",
    "model = VAE()\n",
    "model.to(device)\n",
    "optimizer = optim.Adam(model.parameters(), lr=1e-3)"
   ]
  },
  {
   "cell_type": "code",
   "execution_count": 20,
   "metadata": {},
   "outputs": [],
   "source": [
    "def loss_function(recon_x, x, mu, logvar):\n",
    "    # size_average=Falseなのでバッチ内のサンプルの合計lossを求める\n",
    "    # reconstruction loss 入力画像をどのくらい正確に復元できたか？\n",
    "    # 数式では対数尤度の最大化だが交差エントロピーlossの最小化と等価\n",
    "    recon = F.binary_cross_entropy(recon_x.view(-1, 784), x.view(-1, 784), size_average=False)\n",
    "\n",
    "    # 潜在空間zに対する正則化項\n",
    "    # P(z|x) が N(0, I)に近くなる（KL-distanceが小さくなる）ようにする\n",
    "    kld = -0.5 * torch.sum(1 + logvar - mu.pow(2) - logvar.exp())\n",
    "\n",
    "    return recon + kld"
   ]
  },
  {
   "cell_type": "code",
   "execution_count": 21,
   "metadata": {
    "collapsed": true,
    "jupyter": {
     "outputs_hidden": true
    }
   },
   "outputs": [
    {
     "name": "stderr",
     "output_type": "stream",
     "text": [
      "/home/pip/junya_yasuda/.conda/envs/py36-yasuda/lib/python3.6/site-packages/torch/nn/_reduction.py:43: UserWarning: size_average and reduce args will be deprecated, please use reduction='sum' instead.\n",
      "  warnings.warn(warning.format(ret))\n",
      "/home/pip/junya_yasuda/.conda/envs/py36-yasuda/lib/python3.6/site-packages/ipykernel_launcher.py:27: UserWarning: volatile was removed and now has no effect. Use `with torch.no_grad():` instead.\n"
     ]
    },
    {
     "name": "stdout",
     "output_type": "stream",
     "text": [
      "epoch [1/100], loss: 183.5977 test_loss: 140.4578\n",
      "epoch [2/100], loss: 136.5304 test_loss: 116.4549\n",
      "epoch [3/100], loss: 120.9928 test_loss: 106.9462\n",
      "epoch [4/100], loss: 114.2439 test_loss: 102.4967\n",
      "epoch [5/100], loss: 110.8648 test_loss: 99.8001\n",
      "epoch [6/100], loss: 108.8264 test_loss: 98.7966\n",
      "epoch [7/100], loss: 107.5912 test_loss: 97.5984\n",
      "epoch [8/100], loss: 106.7063 test_loss: 96.3665\n",
      "epoch [9/100], loss: 106.0904 test_loss: 96.1010\n",
      "epoch [10/100], loss: 105.4969 test_loss: 95.6982\n",
      "epoch [11/100], loss: 105.1199 test_loss: 96.0572\n",
      "epoch [12/100], loss: 104.7879 test_loss: 94.7624\n",
      "epoch [13/100], loss: 104.4489 test_loss: 94.6551\n",
      "epoch [14/100], loss: 104.1753 test_loss: 94.5180\n",
      "epoch [15/100], loss: 103.9132 test_loss: 94.5991\n",
      "epoch [16/100], loss: 103.6804 test_loss: 94.0257\n",
      "epoch [17/100], loss: 103.4250 test_loss: 93.6865\n",
      "epoch [18/100], loss: 103.2128 test_loss: 94.5246\n",
      "epoch [19/100], loss: 103.0835 test_loss: 93.7266\n",
      "epoch [20/100], loss: 102.8954 test_loss: 93.6156\n",
      "epoch [21/100], loss: 102.7283 test_loss: 93.4172\n",
      "epoch [22/100], loss: 102.6207 test_loss: 93.0219\n",
      "epoch [23/100], loss: 102.5079 test_loss: 92.9657\n",
      "epoch [24/100], loss: 102.3809 test_loss: 92.5311\n",
      "epoch [25/100], loss: 102.2397 test_loss: 92.8671\n",
      "epoch [26/100], loss: 102.1155 test_loss: 93.0257\n",
      "epoch [27/100], loss: 102.0117 test_loss: 92.6284\n",
      "epoch [28/100], loss: 101.9828 test_loss: 92.4818\n",
      "epoch [29/100], loss: 101.8333 test_loss: 93.2177\n",
      "epoch [30/100], loss: 101.7831 test_loss: 92.0069\n",
      "epoch [31/100], loss: 101.6617 test_loss: 92.7893\n",
      "epoch [32/100], loss: 101.6027 test_loss: 92.9090\n",
      "epoch [33/100], loss: 101.5339 test_loss: 91.8772\n",
      "epoch [34/100], loss: 101.4343 test_loss: 92.2723\n",
      "epoch [35/100], loss: 101.4010 test_loss: 92.0809\n",
      "epoch [36/100], loss: 101.2968 test_loss: 92.0321\n",
      "epoch [37/100], loss: 101.2444 test_loss: 92.1695\n",
      "epoch [38/100], loss: 101.1803 test_loss: 92.2425\n",
      "epoch [39/100], loss: 101.1281 test_loss: 92.7292\n",
      "epoch [40/100], loss: 101.0798 test_loss: 91.8330\n",
      "epoch [41/100], loss: 101.0500 test_loss: 92.3699\n",
      "epoch [42/100], loss: 100.9451 test_loss: 92.7148\n",
      "epoch [43/100], loss: 100.8504 test_loss: 92.1937\n",
      "epoch [44/100], loss: 100.8600 test_loss: 92.2186\n",
      "epoch [45/100], loss: 100.7922 test_loss: 91.8695\n",
      "epoch [46/100], loss: 100.6952 test_loss: 91.8935\n",
      "epoch [47/100], loss: 100.6633 test_loss: 91.6128\n",
      "epoch [48/100], loss: 100.6445 test_loss: 91.8073\n",
      "epoch [49/100], loss: 100.5644 test_loss: 91.6561\n",
      "epoch [50/100], loss: 100.5714 test_loss: 91.5014\n",
      "epoch [51/100], loss: 100.4898 test_loss: 91.8082\n",
      "epoch [52/100], loss: 100.4846 test_loss: 91.3753\n",
      "epoch [53/100], loss: 100.4335 test_loss: 92.0133\n",
      "epoch [54/100], loss: 100.3536 test_loss: 91.8894\n",
      "epoch [55/100], loss: 100.3545 test_loss: 91.3752\n",
      "epoch [56/100], loss: 100.2662 test_loss: 91.2436\n",
      "epoch [57/100], loss: 100.2676 test_loss: 92.0486\n",
      "epoch [58/100], loss: 100.2550 test_loss: 91.1234\n",
      "epoch [59/100], loss: 100.1582 test_loss: 91.3485\n",
      "epoch [60/100], loss: 100.1767 test_loss: 90.9611\n",
      "epoch [61/100], loss: 100.1316 test_loss: 91.2422\n",
      "epoch [62/100], loss: 100.0690 test_loss: 92.0423\n",
      "epoch [63/100], loss: 100.0506 test_loss: 91.1395\n",
      "epoch [64/100], loss: 100.0012 test_loss: 91.6023\n",
      "epoch [65/100], loss: 99.9907 test_loss: 91.6341\n",
      "epoch [66/100], loss: 99.9646 test_loss: 91.3193\n",
      "epoch [67/100], loss: 99.9721 test_loss: 91.1668\n",
      "epoch [68/100], loss: 99.8847 test_loss: 91.9489\n",
      "epoch [69/100], loss: 99.8727 test_loss: 91.1655\n",
      "epoch [70/100], loss: 99.8084 test_loss: 91.0089\n",
      "epoch [71/100], loss: 99.8036 test_loss: 91.3479\n",
      "epoch [72/100], loss: 99.7962 test_loss: 91.7241\n",
      "epoch [73/100], loss: 99.7549 test_loss: 90.8585\n",
      "epoch [74/100], loss: 99.7298 test_loss: 91.2014\n",
      "epoch [75/100], loss: 99.6889 test_loss: 91.2254\n",
      "epoch [76/100], loss: 99.6975 test_loss: 91.0396\n",
      "epoch [77/100], loss: 99.6458 test_loss: 91.0216\n",
      "epoch [78/100], loss: 99.6393 test_loss: 91.3067\n",
      "epoch [79/100], loss: 99.5725 test_loss: 90.9690\n",
      "epoch [80/100], loss: 99.5505 test_loss: 90.9896\n",
      "epoch [81/100], loss: 99.5549 test_loss: 91.2965\n",
      "epoch [82/100], loss: 99.5103 test_loss: 91.1142\n",
      "epoch [83/100], loss: 99.4723 test_loss: 91.1555\n",
      "epoch [84/100], loss: 99.4500 test_loss: 90.6964\n",
      "epoch [85/100], loss: 99.4834 test_loss: 91.2404\n",
      "epoch [86/100], loss: 99.4444 test_loss: 90.7071\n",
      "epoch [87/100], loss: 99.4171 test_loss: 90.7108\n",
      "epoch [88/100], loss: 99.3955 test_loss: 91.1076\n",
      "epoch [89/100], loss: 99.3598 test_loss: 91.5533\n",
      "epoch [90/100], loss: 99.3199 test_loss: 91.2481\n",
      "epoch [91/100], loss: 99.3327 test_loss: 91.7910\n",
      "epoch [92/100], loss: 99.2849 test_loss: 91.4358\n",
      "epoch [93/100], loss: 99.2742 test_loss: 91.3734\n",
      "epoch [94/100], loss: 99.2778 test_loss: 91.1440\n",
      "epoch [95/100], loss: 99.2193 test_loss: 90.8314\n",
      "epoch [96/100], loss: 99.2029 test_loss: 90.7420\n",
      "epoch [97/100], loss: 99.1677 test_loss: 90.8248\n",
      "epoch [98/100], loss: 99.1606 test_loss: 90.5938\n",
      "epoch [99/100], loss: 99.1655 test_loss: 90.9663\n",
      "epoch [100/100], loss: 99.1187 test_loss: 90.9499\n"
     ]
    }
   ],
   "source": [
    "def train(epoch):\n",
    "    model.train()\n",
    "    train_loss = 0\n",
    "    for batch_idx, (data, _) in enumerate(train_loader):\n",
    "        data.to(device)\n",
    "        optimizer.zero_grad()\n",
    "        recon_batch, mu, logvar = model(data)\n",
    "        loss = loss_function(recon_batch, data, mu, logvar)\n",
    "        loss.backward()\n",
    "        train_loss += loss.data\n",
    "        optimizer.step()\n",
    "    \n",
    "    # loss_function() は平均ではなく全サンプルの合計lossを返すのでサンプル数で割る\n",
    "    train_loss /= len(train_loader.dataset)\n",
    "\n",
    "    return train_loss\n",
    "    \n",
    "\n",
    "def test(epoch):\n",
    "    model.eval()\n",
    "    test_loss = 0\n",
    "    for batch_idx, (data, _) in enumerate(test_loader):\n",
    "        data.to(device)\n",
    "        recon_batch, mu, logvar = model(data)\n",
    "        loss = loss_function(recon_batch, data, mu, logvar)\n",
    "        test_loss += loss.data\n",
    "        \n",
    "        if epoch % 10 == 0:\n",
    "            # 10エポックごとに最初のminibatchの入力画像と復元画像を保存\n",
    "            if batch_idx == 0:\n",
    "                n = 8\n",
    "                comparison = torch.cat([data[:n],\n",
    "                                        recon_batch.view(batch_size, 1, 28, 28)[:n]])\n",
    "                save_image(comparison.data.cpu(),\n",
    "                           '{}/reconstruction_{}.png'.format(out_dir, epoch), nrow=n)\n",
    "\n",
    "    test_loss /= len(test_loader.dataset)\n",
    "\n",
    "    return test_loss\n",
    "\n",
    "loss_list = []\n",
    "test_loss_list = []\n",
    "for epoch in range(1, num_epochs + 1):\n",
    "    loss = train(epoch)\n",
    "    test_loss = test(epoch)\n",
    "    \n",
    "    if epoch%5==0:\n",
    "        print('epoch [{}/{}], loss: {:.4f} test_loss: {:.4f}'.format(\n",
    "            epoch,\n",
    "            num_epochs,\n",
    "            loss,\n",
    "            test_loss))\n",
    "\n",
    "    # logging\n",
    "    loss_list.append(loss)\n",
    "    test_loss_list.append(test_loss)\n",
    "\n",
    "# save the training model\n",
    "np.save(out_dir+'/loss_list.npy', np.array(loss_list))\n",
    "np.save(out_dir+'/test_loss_list.npy', np.array(test_loss_list))\n",
    "torch.save(model.state_dict(), out_dir+'/vae.pth')"
   ]
  },
  {
   "cell_type": "code",
   "execution_count": 25,
   "metadata": {},
   "outputs": [
    {
     "data": {
      "image/png": "[encoded data removed]",
      "text/plain": [
       "<Figure size 432x288 with 1 Axes>"
      ]
     },
     "metadata": {
      "needs_background": "light"
     },
     "output_type": "display_data"
    }
   ],
   "source": [
    "import matplotlib.pyplot as plt\n",
    "%matplotlib inline\n",
    "x = [i for i in range(len(loss_list))]\n",
    "plt.plot(x, loss_list, label=\"train\")\n",
    "plt.plot(x, test_loss_list, label=\"validation\")\n",
    "plt.legend()\n",
    "plt.show()"
   ]
  },
  {
   "cell_type": "code",
   "execution_count": 22,
   "metadata": {},
   "outputs": [
    {
     "data": {
      "image/png": "[encoded data removed]",
      "text/plain": [
       "<IPython.core.display.Image object>"
      ]
     },
     "execution_count": 22,
     "metadata": {},
     "output_type": "execute_result"
    }
   ],
   "source": [
    "from IPython.display import Image\n",
    "Image(out_dir+'/reconstruction_10.png')"
   ]
  },
  {
   "cell_type": "code",
   "execution_count": 23,
   "metadata": {},
   "outputs": [
    {
     "data": {
      "image/png": "[encoded data removed]",
      "text/plain": [
       "<IPython.core.display.Image object>"
      ]
     },
     "execution_count": 23,
     "metadata": {},
     "output_type": "execute_result"
    }
   ],
   "source": [
    "Image(out_dir+'/reconstruction_100.png')"
   ]
  }
 ],
 "metadata": {
  "kernelspec": {
   "display_name": "py36-yasuda",
   "language": "python",
   "name": "py36-yasuda"
  },
  "language_info": {
   "codemirror_mode": {
    "name": "ipython",
    "version": 3
   },
   "file_extension": ".py",
   "mimetype": "text/x-python",
   "name": "python",
   "nbconvert_exporter": "python",
   "pygments_lexer": "ipython3",
   "version": "3.6.9"
  }
 },
 "nbformat": 4,
 "nbformat_minor": 4
}
