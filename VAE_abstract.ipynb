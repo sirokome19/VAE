{
 "cells": [
  {
   "cell_type": "markdown",
   "metadata": {},
   "source": [
    "# VAE概要"
   ]
  },
  {
   "cell_type": "markdown",
   "metadata": {},
   "source": [
    "## 変分ベイズ"
   ]
  },
  {
   "cell_type": "markdown",
   "metadata": {},
   "source": [
    "$p(z|x)$が知りたいが直接調べるのが困難なときに用いる。  \n",
    "$p(z|x)\\sim q(z)$と近似する。  \n",
    "ここで$q(z)$を$p(z|x)$に近づける、すなわち$KL[q(z)||p(z|x)]$を最小化する必要がある 。  \n",
    "しかし、$p(z|x)$は計算困難。  \n",
    "そこで対数周辺尤度$\\log{p(x)}$に関して変分下限を計算する。  "
   ]
  },
  {
   "cell_type": "markdown",
   "metadata": {},
   "source": [
    "イェンセンの不等式より、$f$が凸関数の時$p(x)\\geq0, \\int p(x)dx=1$に対して\n",
    "$$\n",
    "\\int f\\left[y(x)\\right] p(x)dx\\geq f\\left[ \\int y(x) p(x)dx\\right] \\tag{1.1}\n",
    "$$\n",
    "が成り立つから、"
   ]
  },
  {
   "cell_type": "markdown",
   "metadata": {},
   "source": [
    "$$\n",
    "\\begin{align}\n",
    "\\log{p(x)}&=\\log\\left[\\int p(x,z)dz\\right] \\\\\n",
    "&=\\log\\left[\\int q(z|x)\\frac{p(x,z)}{q(z|x)}dz\\right]\\\\\n",
    "&\\geq\\int q(z|x)\\log\\frac{p(x,z)}{q(z|x)}dz\\equiv L(x,z)\\tag{1.2}\\\\\n",
    "\\end{align}\n",
    "$$"
   ]
  },
  {
   "cell_type": "markdown",
   "metadata": {},
   "source": [
    "ここで対数周辺尤度と変分下限$L(x,z)$の差を計算すると、\n",
    "$$\n",
    "\\begin{align}\n",
    "\\log{p(x)}-L(x,z)&=\\int q(z|x)\\log p(x)dz- \\int q(z|x)\\log\\frac{p(x,z)}{q(z|x)}dz\\\\\n",
    "&=\\int q(z|x)\\log\\frac{p(x)q(z|x)}{p(x,z)}dz\\\\\n",
    "&=\\int q(z|x)\\log\\frac{q(z|x)}{p(z|x)}dz\\\\\n",
    "&=D_{KL}[q(z|x)||p(z|x)]\\tag{1.3}\\\\\n",
    "\\end{align}\n",
    "$$"
   ]
  },
  {
   "cell_type": "markdown",
   "metadata": {},
   "source": [
    "$$\n",
    "\\begin{align}\n",
    "D_{KL}[q(z|x)||p(z|x)]&=\\int q(z|x)\\log\\frac{q(z|x)}{p(z|x)}dz\\\\\n",
    "&=\\int q(z|x)\\left[\\log{q(z|x)}-\\log{p(z|x)}\\right]dz\\\\\n",
    "&=\\int q(z|x)\\left[\\log{q(z|x)}-\\log{\\frac{p(x|z)p(z)}{p(x)}}\\right]dz\\\\\n",
    "&=\\int q(z|x)\\left[\\log{q(z|x)}-\\log{p(x|z)}-\\log{p(z)}+\\log{p(x)}\\right]dz\\\\\n",
    "&=\\int q(z|x)\\left[\\log{q(z|x)}-\\log{p(z)}\\right]dz-\\int q(z|x)\\log{p(x|z)}dz+\\log{p(x)}\\\\\n",
    "&=D_{KL}[q(z|x)\\|p(z)]-\\mathbb{E}_{q(z|x)}\\log{p(x|z)}+\\log{p(x)} \\tag{1.4}\\\\\n",
    "\\end{align}\n",
    "$$"
   ]
  },
  {
   "cell_type": "markdown",
   "metadata": {},
   "source": [
    "よって変分下限$L(x,z)$を最大化することは$D_{KL}[q(z)||p(z|x)]$を最小化することになる。  \n",
    "変分下限を最大化する方法はオイラー法が有名だが、機械学習ではこれを直接法で求める。"
   ]
  },
  {
   "cell_type": "markdown",
   "metadata": {},
   "source": [
    "## 変分下限の分解"
   ]
  },
  {
   "cell_type": "markdown",
   "metadata": {},
   "source": [
    "式(1.4)を式(1.3)に代入して、"
   ]
  },
  {
   "cell_type": "markdown",
   "metadata": {},
   "source": [
    "$$\n",
    "L(x,z)=\\mathbb{E}_{q(z|x)}\\log{p(x|z)}-D_{KL}[q(z|x)||p(z)]\\tag{1.5}\n",
    "$$"
   ]
  },
  {
   "cell_type": "markdown",
   "metadata": {},
   "source": [
    "以下のように解釈可能\n",
    "- 第一項：最大化したい。  \n",
    "    Encoderによって得られた確率分布$q(z|x)$を用いて$\\log{p(x|z)}$の期待値を最大化する\n",
    "\n",
    "- 第二項：最小化したい。  \n",
    "    Encoderによって得られる$z$の分布$q(z|x)$は$p(z)$に近づいてほしい(普通は標準正規分布)"
   ]
  },
  {
   "cell_type": "markdown",
   "metadata": {},
   "source": [
    "## 疑問点：\n",
    "- $p(z)$って本当に適当な標準正規分布でいいの？\n",
    "  - p(x|z)の最大値が制限されそう\n"
   ]
  }
 ],
 "metadata": {
  "kernelspec": {
   "display_name": "py36-yasuda",
   "language": "python",
   "name": "py36-yasuda"
  },
  "language_info": {
   "codemirror_mode": {
    "name": "ipython",
    "version": 3
   },
   "file_extension": ".py",
   "mimetype": "text/x-python",
   "name": "python",
   "nbconvert_exporter": "python",
   "pygments_lexer": "ipython3",
   "version": "3.6.9"
  }
 },
 "nbformat": 4,
 "nbformat_minor": 4
}
