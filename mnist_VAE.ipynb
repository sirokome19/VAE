{
 "cells": [
  {
   "cell_type": "code",
   "execution_count": 1,
   "metadata": {},
   "outputs": [],
   "source": [
    "import os\n",
    "import numpy as np\n",
    "import torch\n",
    "import torch.nn as nn\n",
    "import torch.utils.data\n",
    "import torch.optim as optim\n",
    "from torch.autograd import Variable\n",
    "from torch.nn import functional as F\n",
    "from torchvision import datasets, transforms\n",
    "from torchvision.utils import save_image\n",
    "\n",
    "batch_size = 128\n",
    "num_epochs = 100\n",
    "seed = 1\n",
    "out_dir = './mnist_vae'"
   ]
  },
  {
   "cell_type": "code",
   "execution_count": 2,
   "metadata": {},
   "outputs": [
    {
     "name": "stdout",
     "output_type": "stream",
     "text": [
      "cuda is available!\n"
     ]
    }
   ],
   "source": [
    "cuda = torch.cuda.is_available()\n",
    "if cuda:\n",
    "    print('cuda is available!')\n",
    "\n",
    "if not os.path.exists(out_dir):\n",
    "    os.mkdir(out_dir)\n",
    "\n",
    "torch.manual_seed(seed)\n",
    "if cuda:\n",
    "    torch.cuda.manual_seed(seed)"
   ]
  },
  {
   "cell_type": "code",
   "execution_count": 3,
   "metadata": {},
   "outputs": [],
   "source": [
    "# (image, label) = [(batch,channel,h,w), (batch)] \n",
    "# channel=1, h=28, w=28\n",
    "train_loader = torch.utils.data.DataLoader(\n",
    "    datasets.MNIST('data',\n",
    "                   train=True,\n",
    "                   download=True,\n",
    "                   transform=transforms.ToTensor()),\n",
    "    batch_size=batch_size,\n",
    "    shuffle=True\n",
    ")\n",
    "\n",
    "test_loader = torch.utils.data.DataLoader(\n",
    "    datasets.MNIST('data',\n",
    "                   train=False,\n",
    "                   transform=transforms.ToTensor()),\n",
    "    batch_size=batch_size,\n",
    "    shuffle=True\n",
    ")"
   ]
  },
  {
   "cell_type": "code",
   "execution_count": 4,
   "metadata": {},
   "outputs": [],
   "source": [
    "class VAE(nn.Module):\n",
    "\n",
    "    def __init__(self):\n",
    "        super(VAE, self).__init__()\n",
    "        \n",
    "        self.fc1 = nn.Linear(784, 512)\n",
    "        self.fc21 = nn.Linear(512, 100)  # mu\n",
    "        self.fc22 = nn.Linear(512, 100)  # logvar\n",
    "\n",
    "        self.fc3 = nn.Linear(100, 512)\n",
    "        self.fc4 = nn.Linear(512, 784)\n",
    "        \n",
    "        self.relu = nn.ReLU()\n",
    "        self.sigmoid = nn.Sigmoid()\n",
    "        \n",
    "    def encode(self, x):\n",
    "        h = self.relu(self.fc1(x))\n",
    "        return self.fc21(h), self.fc22(h)\n",
    "\n",
    "    def reparameterize(self, mu, logvar):\n",
    "        if self.training:\n",
    "            std = logvar.mul(0.5).exp_()\n",
    "            eps = Variable(std.data.new(std.size()).normal_())\n",
    "            return eps.mul(std).add_(mu)\n",
    "        else:\n",
    "            return mu\n",
    "\n",
    "    def decode(self, z):\n",
    "        h = self.relu(self.fc3(z))\n",
    "        return self.sigmoid(self.fc4(h))\n",
    "    \n",
    "    def forward(self, x):\n",
    "        x = x.view(-1, 784)\n",
    "        mu, logvar = self.encode(x)\n",
    "        z = self.reparameterize(mu, logvar)\n",
    "        return self.decode(z), mu, logvar\n",
    "\n",
    "model = VAE()\n",
    "if cuda:\n",
    "    model.cuda()\n",
    "optimizer = optim.Adam(model.parameters(), lr=1e-3)"
   ]
  },
  {
   "cell_type": "code",
   "execution_count": 5,
   "metadata": {},
   "outputs": [],
   "source": [
    "def loss_function(recon_x, x, mu, logvar):\n",
    "    # size_average=Falseなのでバッチ内のサンプルの合計lossを求める\n",
    "    # reconstruction loss 入力画像をどのくらい正確に復元できたか？\n",
    "    # 数式では対数尤度の最大化だが交差エントロピーlossの最小化と等価\n",
    "    recon = F.binary_cross_entropy(recon_x, x.view(-1, 784), size_average=False)\n",
    "\n",
    "    # 潜在空間zに対する正則化項\n",
    "    # P(z|x) が N(0, I)に近くなる（KL-distanceが小さくなる）ようにする\n",
    "    kld = -0.5 * torch.sum(1 + logvar - mu.pow(2) - logvar.exp())\n",
    "\n",
    "    return recon + kld"
   ]
  },
  {
   "cell_type": "code",
   "execution_count": 6,
   "metadata": {},
   "outputs": [
    {
     "name": "stderr",
     "output_type": "stream",
     "text": [
      "/home/pip/junya_yasuda/.conda/envs/py36-yasuda/lib/python3.6/site-packages/torch/nn/_reduction.py:43: UserWarning: size_average and reduce args will be deprecated, please use reduction='sum' instead.\n",
      "  warnings.warn(warning.format(ret))\n",
      "/home/pip/junya_yasuda/.conda/envs/py36-yasuda/lib/python3.6/site-packages/ipykernel_launcher.py:27: UserWarning: volatile was removed and now has no effect. Use `with torch.no_grad():` instead.\n"
     ]
    },
    {
     "name": "stdout",
     "output_type": "stream",
     "text": [
      "epoch [1/100], loss: 168.3235 test_loss: 125.0661\n",
      "epoch [2/100], loss: 129.6924 test_loss: 109.8340\n",
      "epoch [3/100], loss: 118.3517 test_loss: 104.0255\n",
      "epoch [4/100], loss: 113.1375 test_loss: 100.8750\n",
      "epoch [5/100], loss: 110.4462 test_loss: 99.0752\n",
      "epoch [6/100], loss: 108.7814 test_loss: 97.5696\n",
      "epoch [7/100], loss: 107.6425 test_loss: 97.2491\n",
      "epoch [8/100], loss: 106.8675 test_loss: 96.4611\n",
      "epoch [9/100], loss: 106.2858 test_loss: 96.2687\n",
      "epoch [10/100], loss: 105.7521 test_loss: 95.0117\n",
      "epoch [11/100], loss: 105.3366 test_loss: 94.8452\n",
      "epoch [12/100], loss: 105.0821 test_loss: 94.6751\n",
      "epoch [13/100], loss: 104.7995 test_loss: 94.2751\n",
      "epoch [14/100], loss: 104.5734 test_loss: 94.6534\n",
      "epoch [15/100], loss: 104.4007 test_loss: 94.3290\n",
      "epoch [16/100], loss: 104.1852 test_loss: 94.1006\n",
      "epoch [17/100], loss: 104.0168 test_loss: 94.3407\n",
      "epoch [18/100], loss: 103.8613 test_loss: 94.6968\n",
      "epoch [19/100], loss: 103.6885 test_loss: 94.2043\n",
      "epoch [20/100], loss: 103.5640 test_loss: 93.5805\n",
      "epoch [21/100], loss: 103.4603 test_loss: 93.4554\n",
      "epoch [22/100], loss: 103.3072 test_loss: 93.2228\n",
      "epoch [23/100], loss: 103.2043 test_loss: 93.5944\n",
      "epoch [24/100], loss: 103.1095 test_loss: 93.1825\n",
      "epoch [25/100], loss: 103.0134 test_loss: 93.4887\n",
      "epoch [26/100], loss: 102.9069 test_loss: 93.6700\n",
      "epoch [27/100], loss: 102.8287 test_loss: 92.8485\n",
      "epoch [28/100], loss: 102.7326 test_loss: 92.8737\n",
      "epoch [29/100], loss: 102.6145 test_loss: 92.9846\n",
      "epoch [30/100], loss: 102.5712 test_loss: 93.3521\n",
      "epoch [31/100], loss: 102.4819 test_loss: 92.5029\n",
      "epoch [32/100], loss: 102.3955 test_loss: 93.8174\n",
      "epoch [33/100], loss: 102.3462 test_loss: 92.6090\n",
      "epoch [34/100], loss: 102.2888 test_loss: 92.9533\n",
      "epoch [35/100], loss: 102.1998 test_loss: 92.8533\n",
      "epoch [36/100], loss: 102.1161 test_loss: 92.4349\n",
      "epoch [37/100], loss: 102.0682 test_loss: 92.4792\n",
      "epoch [38/100], loss: 101.9630 test_loss: 93.1590\n",
      "epoch [39/100], loss: 101.9614 test_loss: 92.9817\n",
      "epoch [40/100], loss: 101.9366 test_loss: 92.8646\n",
      "epoch [41/100], loss: 101.8579 test_loss: 92.5508\n",
      "epoch [42/100], loss: 101.7962 test_loss: 92.7042\n",
      "epoch [43/100], loss: 101.7328 test_loss: 92.3978\n",
      "epoch [44/100], loss: 101.7123 test_loss: 92.6482\n",
      "epoch [45/100], loss: 101.6255 test_loss: 92.3201\n",
      "epoch [46/100], loss: 101.5525 test_loss: 92.5715\n",
      "epoch [47/100], loss: 101.5334 test_loss: 92.1859\n",
      "epoch [48/100], loss: 101.5099 test_loss: 92.7837\n",
      "epoch [49/100], loss: 101.4462 test_loss: 91.6218\n",
      "epoch [50/100], loss: 101.4158 test_loss: 92.3606\n",
      "epoch [51/100], loss: 101.3656 test_loss: 91.9015\n",
      "epoch [52/100], loss: 101.3623 test_loss: 92.0055\n",
      "epoch [53/100], loss: 101.2692 test_loss: 92.5607\n",
      "epoch [54/100], loss: 101.2594 test_loss: 92.1750\n",
      "epoch [55/100], loss: 101.2034 test_loss: 92.4243\n",
      "epoch [56/100], loss: 101.1644 test_loss: 92.8263\n",
      "epoch [57/100], loss: 101.1478 test_loss: 92.9351\n",
      "epoch [58/100], loss: 101.0922 test_loss: 92.1720\n",
      "epoch [59/100], loss: 101.0554 test_loss: 91.5664\n",
      "epoch [60/100], loss: 101.0164 test_loss: 92.1838\n",
      "epoch [61/100], loss: 101.0297 test_loss: 91.9199\n",
      "epoch [62/100], loss: 100.9729 test_loss: 91.7582\n",
      "epoch [63/100], loss: 100.9138 test_loss: 91.8531\n",
      "epoch [64/100], loss: 100.9298 test_loss: 92.3670\n",
      "epoch [65/100], loss: 100.8536 test_loss: 91.4746\n",
      "epoch [66/100], loss: 100.8194 test_loss: 92.0719\n",
      "epoch [67/100], loss: 100.7973 test_loss: 92.6497\n",
      "epoch [68/100], loss: 100.7766 test_loss: 92.1581\n",
      "epoch [69/100], loss: 100.7400 test_loss: 91.6305\n",
      "epoch [70/100], loss: 100.7352 test_loss: 92.7416\n",
      "epoch [71/100], loss: 100.7393 test_loss: 92.0440\n",
      "epoch [72/100], loss: 100.6764 test_loss: 91.8552\n",
      "epoch [73/100], loss: 100.6938 test_loss: 92.1207\n",
      "epoch [74/100], loss: 100.6594 test_loss: 91.5391\n",
      "epoch [75/100], loss: 100.6144 test_loss: 91.7676\n",
      "epoch [76/100], loss: 100.5773 test_loss: 91.9144\n",
      "epoch [77/100], loss: 100.5402 test_loss: 91.6340\n",
      "epoch [78/100], loss: 100.5264 test_loss: 91.6555\n",
      "epoch [79/100], loss: 100.5212 test_loss: 92.0686\n",
      "epoch [80/100], loss: 100.5212 test_loss: 91.5993\n",
      "epoch [81/100], loss: 100.4421 test_loss: 91.8349\n",
      "epoch [82/100], loss: 100.4686 test_loss: 91.5054\n",
      "epoch [83/100], loss: 100.4759 test_loss: 91.5994\n",
      "epoch [84/100], loss: 100.3863 test_loss: 91.9994\n",
      "epoch [85/100], loss: 100.4007 test_loss: 91.3449\n",
      "epoch [86/100], loss: 100.3592 test_loss: 91.4424\n",
      "epoch [87/100], loss: 100.3373 test_loss: 91.8467\n",
      "epoch [88/100], loss: 100.3049 test_loss: 91.8181\n",
      "epoch [89/100], loss: 100.3280 test_loss: 91.4125\n",
      "epoch [90/100], loss: 100.2829 test_loss: 92.0015\n",
      "epoch [91/100], loss: 100.2505 test_loss: 91.2799\n",
      "epoch [92/100], loss: 100.2269 test_loss: 91.7913\n",
      "epoch [93/100], loss: 100.2325 test_loss: 91.3432\n",
      "epoch [94/100], loss: 100.2077 test_loss: 92.3348\n",
      "epoch [95/100], loss: 100.1707 test_loss: 91.9342\n",
      "epoch [96/100], loss: 100.1553 test_loss: 91.9711\n",
      "epoch [97/100], loss: 100.1540 test_loss: 91.7366\n",
      "epoch [98/100], loss: 100.1563 test_loss: 91.3666\n",
      "epoch [99/100], loss: 100.1139 test_loss: 91.4044\n",
      "epoch [100/100], loss: 100.1268 test_loss: 91.4832\n"
     ]
    }
   ],
   "source": [
    "def train(epoch):\n",
    "    model.train()\n",
    "    train_loss = 0\n",
    "    for batch_idx, (data, _) in enumerate(train_loader):\n",
    "        if cuda:\n",
    "            data = Variable(data.cuda())\n",
    "        else:\n",
    "            data = Variable(data)\n",
    "        optimizer.zero_grad()\n",
    "        recon_batch, mu, logvar = model(data)\n",
    "        loss = loss_function(recon_batch, data, mu, logvar)\n",
    "        loss.backward()\n",
    "        train_loss += loss.data\n",
    "        optimizer.step()\n",
    "    \n",
    "    # loss_function() は平均ではなく全サンプルの合計lossを返すのでサンプル数で割る\n",
    "    train_loss /= len(train_loader.dataset)\n",
    "\n",
    "    return train_loss    \n",
    "    \n",
    "\n",
    "def test(epoch):\n",
    "    model.eval()\n",
    "    test_loss = 0\n",
    "    for batch_idx, (data, _) in enumerate(test_loader):\n",
    "        if cuda:\n",
    "            data = Variable(data.cuda(), volatile=True)\n",
    "        else:\n",
    "            data = Variable(data, volatile=True)\n",
    "        recon_batch, mu, logvar = model(data)\n",
    "        loss = loss_function(recon_batch, data, mu, logvar)\n",
    "        test_loss += loss.data\n",
    "        \n",
    "        if epoch % 10 == 0:\n",
    "            # 10エポックごとに最初のminibatchの入力画像と復元画像を保存\n",
    "            if batch_idx == 0:\n",
    "                n = 8\n",
    "                comparison = torch.cat([data[:n],\n",
    "                                        recon_batch.view(batch_size, 1, 28, 28)[:n]])\n",
    "                save_image(comparison.data.cpu(),\n",
    "                           '{}/reconstruction_{}.png'.format(out_dir, epoch), nrow=n)\n",
    "\n",
    "    test_loss /= len(test_loader.dataset)\n",
    "\n",
    "    return test_loss\n",
    "\n",
    "loss_list = []\n",
    "test_loss_list = []\n",
    "for epoch in range(1, num_epochs + 1):\n",
    "    loss = train(epoch)\n",
    "    test_loss = test(epoch)\n",
    "\n",
    "    print('epoch [{}/{}], loss: {:.4f} test_loss: {:.4f}'.format(\n",
    "        epoch,\n",
    "        num_epochs,\n",
    "        loss,\n",
    "        test_loss))\n",
    "\n",
    "    # logging\n",
    "    loss_list.append(loss)\n",
    "    test_loss_list.append(test_loss)\n",
    "\n",
    "# save the training model\n",
    "np.save(out_dir+'/loss_list.npy', np.array(loss_list))\n",
    "np.save(out_dir+'/test_loss_list.npy', np.array(test_loss_list))\n",
    "torch.save(model.state_dict(), out_dir+'/vae.pth')"
   ]
  },
  {
   "cell_type": "code",
   "execution_count": 9,
   "metadata": {},
   "outputs": [
    {
     "data": {
      "image/png": "[encoded data removed]",
      "text/plain": [
       "<IPython.core.display.Image object>"
      ]
     },
     "execution_count": 9,
     "metadata": {},
     "output_type": "execute_result"
    }
   ],
   "source": [
    "from IPython.display import Image\n",
    "Image(out_dir+'/reconstruction_10.png')"
   ]
  },
  {
   "cell_type": "code",
   "execution_count": 10,
   "metadata": {},
   "outputs": [
    {
     "data": {
      "image/png": "[encoded data removed]",
      "text/plain": [
       "<IPython.core.display.Image object>"
      ]
     },
     "execution_count": 10,
     "metadata": {},
     "output_type": "execute_result"
    }
   ],
   "source": [
    "Image(out_dir+'/reconstruction_100.png')"
   ]
  },
  {
   "cell_type": "code",
   "execution_count": 11,
   "metadata": {},
   "outputs": [
    {
     "data": {
      "image/png": "[encoded data removed]",
      "text/plain": [
       "<Figure size 432x288 with 1 Axes>"
      ]
     },
     "metadata": {
      "needs_background": "light"
     },
     "output_type": "display_data"
    }
   ],
   "source": [
    "import matplotlib.pyplot as plt\n",
    "%matplotlib inline\n",
    "x = [i for i in range(len(loss_list))]\n",
    "plt.plot(x, loss_list, label=\"train\")\n",
    "plt.plot(x, test_loss_list, label=\"validation\")\n",
    "plt.legend()\n",
    "plt.show()"
   ]
  }
 ],
 "metadata": {
  "kernelspec": {
   "display_name": "py36-yasuda",
   "language": "python",
   "name": "py36-yasuda"
  },
  "language_info": {
   "codemirror_mode": {
    "name": "ipython",
    "version": 3
   },
   "file_extension": ".py",
   "mimetype": "text/x-python",
   "name": "python",
   "nbconvert_exporter": "python",
   "pygments_lexer": "ipython3",
   "version": "3.6.9"
  }
 },
 "nbformat": 4,
 "nbformat_minor": 4
}
